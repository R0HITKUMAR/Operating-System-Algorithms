{
 "metadata": {
  "language_info": {
   "codemirror_mode": {
    "name": "ipython",
    "version": 3
   },
   "file_extension": ".py",
   "mimetype": "text/x-python",
   "name": "python",
   "nbconvert_exporter": "python",
   "pygments_lexer": "ipython3",
   "version": "3.9.6"
  },
  "orig_nbformat": 4,
  "kernelspec": {
   "name": "python3",
   "display_name": "Python 3.9.6 64-bit"
  },
  "interpreter": {
   "hash": "f4fde45515710cbe4f4cf44a8ddef1b298277709bd6c5462499553af68a98f2e"
  }
 },
 "nbformat": 4,
 "nbformat_minor": 2,
 "cells": [
  {
   "cell_type": "code",
   "execution_count": 3,
   "metadata": {},
   "outputs": [
    {
     "output_type": "stream",
     "name": "stdout",
     "text": [
      "Total Cylinders Crossed :  640\n"
     ]
    }
   ],
   "source": [
    "# FCFS Disk Scheduling\n",
    "process=[98, 183, 37, 122, 14, 124, 65, 67] \n",
    "n=abs(53-process[0]) \n",
    "for i in range(len(process)-1): \n",
    "    n+=abs(process[i]-process[i+1]) \n",
    "print(\"Total Cylinders Crossed : \",n)"
   ]
  },
  {
   "cell_type": "code",
   "execution_count": 4,
   "metadata": {},
   "outputs": [
    {
     "output_type": "stream",
     "name": "stdout",
     "text": [
      "Total Cylinders Crossed :  737\n"
     ]
    }
   ],
   "source": [
    "# SCAN Disk Scheduling\n",
    "process=[98, 183, 37, 122, 14, 124, 65, 67] \n",
    "cylinder_size=200 \n",
    "starting=53 \n",
    "starting_index=4 \n",
    "cycle=starting-process[starting_index] \n",
    "for i in range(starting_index,len(process)-1): \n",
    "    cycle += abs(process[i] - process[i + 1]) \n",
    "cycle+=cylinder_size-process[-1] \n",
    "cycle+=cylinder_size-process[starting_index-1] \n",
    "for i in range(starting_index-1,0,-1): \n",
    "    cycle+=abs(process[i]-process[i-1]) \n",
    "print(\"Total Cylinders Crossed : \",cycle)"
   ]
  },
  {
   "cell_type": "code",
   "execution_count": 5,
   "metadata": {},
   "outputs": [
    {
     "output_type": "error",
     "ename": "IndexError",
     "evalue": "list index out of range",
     "traceback": [
      "\u001b[1;31m---------------------------------------------------------------------------\u001b[0m",
      "\u001b[1;31mIndexError\u001b[0m                                Traceback (most recent call last)",
      "\u001b[1;32m<ipython-input-5-83b764687f58>\u001b[0m in \u001b[0;36m<module>\u001b[1;34m\u001b[0m\n\u001b[0;32m     22\u001b[0m     \u001b[0ml\u001b[0m\u001b[1;33m=\u001b[0m\u001b[0mreturnL\u001b[0m\u001b[1;33m(\u001b[0m\u001b[0mi\u001b[0m\u001b[1;33m)\u001b[0m\u001b[1;33m\u001b[0m\u001b[1;33m\u001b[0m\u001b[0m\n\u001b[0;32m     23\u001b[0m     \u001b[0mr\u001b[0m\u001b[1;33m=\u001b[0m\u001b[0mreturnR\u001b[0m\u001b[1;33m(\u001b[0m\u001b[0mi\u001b[0m\u001b[1;33m)\u001b[0m\u001b[1;33m\u001b[0m\u001b[1;33m\u001b[0m\u001b[0m\n\u001b[1;32m---> 24\u001b[1;33m     \u001b[0mcycle\u001b[0m\u001b[1;33m+=\u001b[0m \u001b[0mabs\u001b[0m\u001b[1;33m(\u001b[0m\u001b[0mprocess\u001b[0m\u001b[1;33m[\u001b[0m\u001b[0mi\u001b[0m\u001b[1;33m]\u001b[0m \u001b[1;33m-\u001b[0m \u001b[0mmin\u001b[0m\u001b[1;33m(\u001b[0m\u001b[0mprocess\u001b[0m\u001b[1;33m[\u001b[0m\u001b[0ml\u001b[0m\u001b[1;33m]\u001b[0m\u001b[1;33m,\u001b[0m\u001b[0mprocess\u001b[0m\u001b[1;33m[\u001b[0m\u001b[0mr\u001b[0m\u001b[1;33m]\u001b[0m\u001b[1;33m)\u001b[0m\u001b[1;33m)\u001b[0m\u001b[1;33m\u001b[0m\u001b[1;33m\u001b[0m\u001b[0m\n\u001b[0m\u001b[0;32m     25\u001b[0m     \u001b[0mcheck\u001b[0m\u001b[1;33m[\u001b[0m\u001b[0mi\u001b[0m\u001b[1;33m]\u001b[0m\u001b[1;33m=\u001b[0m\u001b[1;36m1\u001b[0m\u001b[1;33m\u001b[0m\u001b[1;33m\u001b[0m\u001b[0m\n\u001b[0;32m     26\u001b[0m     \u001b[1;32mif\u001b[0m \u001b[0mprocess\u001b[0m\u001b[1;33m[\u001b[0m\u001b[0ml\u001b[0m\u001b[1;33m]\u001b[0m \u001b[1;33m>\u001b[0m \u001b[0mprocess\u001b[0m\u001b[1;33m[\u001b[0m\u001b[0mr\u001b[0m\u001b[1;33m]\u001b[0m\u001b[1;33m:\u001b[0m\u001b[1;33m\u001b[0m\u001b[1;33m\u001b[0m\u001b[0m\n",
      "\u001b[1;31mIndexError\u001b[0m: list index out of range"
     ]
    }
   ],
   "source": [
    "# SSTF Disk Scheduling\n",
    "process=[98, 183, 37, 122, 14, 124, 65, 67] \n",
    "check=[0]*len(process) \n",
    "starting_index=4 \n",
    "cycle=53-min(process[starting_index],process[starting_index-1]) \n",
    "if process[starting_index]>process[starting_index-1]: \n",
    "    i=starting_index-1 \n",
    "else: \n",
    "    i=starting_index \n",
    "check[i]=1 \n",
    "def returnL(index): \n",
    "    for i in range(index,-1,-1): \n",
    "        if check[i]==0: \n",
    "            return i\n",
    "    return 10000\n",
    "def returnR(index): \n",
    "    for i in range(index,len(check)): \n",
    "        if check[i]==0: \n",
    "            return i \n",
    "        return returnL(index)\n",
    "while(check.count(1)!=len(process)): \n",
    "    l=returnL(i) \n",
    "    r=returnR(i) \n",
    "    cycle+= abs(process[i] - min(process[l],process[r]))\n",
    "    check[i]=1 \n",
    "    if process[l] > process[r]: \n",
    "        i = r \n",
    "    else: \n",
    "        i = l\n",
    "print(\"Total Cylinders Crossed : \",cycle)"
   ]
  }
 ]
}